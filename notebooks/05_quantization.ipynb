{
 "cells": [
  {
   "cell_type": "code",
   "execution_count": null,
   "metadata": {},
   "outputs": [],
   "source": [
    "import onnxruntime\n",
    "from config import load_config\n",
    "from data_prep import create_data_loader\n",
    "from model import load_model_for_inference\n",
    "from quantize import convert_to_onnx, dynamic_quantize, evaluate_onnx_model\n",
    "from utils import plot_confusion_matrix, plot_roc_curve, plot_precision_recall"
   ]
  },
  {
   "cell_type": "code",
   "execution_count": null,
   "metadata": {},
   "outputs": [],
   "source": [
    "# Load config\n",
    "config = load_config('configs/config.yaml')\n",
    "quantize_config = load_config('configs/quantization_config.yaml')\n",
    "\n",
    "# Load data \n",
    "val_loader = create_data_loader(config[\"valpath\"], \n",
    "                                config[\"val_label_col\"],\n",
    "                                config['tokenizer_model'],\n",
    "                                config['max_length'],\n",
    "                                config['batch_size'],\n",
    "                                shuffle=False) \n",
    "\n",
    "# Load model\n",
    "model = load_model_for_inference(config)\n",
    "\n",
    "# Convert model to ONNX\n",
    "convert_to_onnx(model, config, quantize_config)\n",
    "\n",
    "# Dynamic quantization\n",
    "dynamic_quantize(quantize_config)\n",
    "\n",
    "# Evaluate quantized model\n",
    "session = onnxruntime.InferenceSession(quantize_config['quantized_onnx_path'], \n",
    "                                       providers=[\"CPUExecutionProvider\"])\n",
    "accuracy, f1, all_val_labels, all_val_preds = evaluate_onnx_model(session, val_loader)"
   ]
  },
  {
   "cell_type": "code",
   "execution_count": null,
   "metadata": {},
   "outputs": [],
   "source": [
    "# Plot confusion matrix\n",
    "plot_confusion_matrix(all_val_labels, all_val_preds, classes=[str(i) for i in range(8)])\n",
    "\n",
    "# Plot precision-recall curve\n",
    "plot_precision_recall(all_val_labels, all_val_preds)\n",
    "\n",
    "# Plot ROC curve\n",
    "plot_roc_curve(all_val_labels, all_val_preds)"
   ]
  }
 ],
 "metadata": {
  "language_info": {
   "name": "python"
  }
 },
 "nbformat": 4,
 "nbformat_minor": 2
}
