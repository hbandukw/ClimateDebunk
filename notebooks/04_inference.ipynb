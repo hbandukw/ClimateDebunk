{
 "cells": [
  {
   "cell_type": "code",
   "execution_count": null,
   "metadata": {},
   "outputs": [],
   "source": [
    "import torch\n",
    "from config import load_config\n",
    "from data_prep import create_data_loader\n",
    "from model import load_model_for_inference\n",
    "from train import test_model\n",
    "from utils import plot_confusion_matrix, plot_precision_recall, plot_roc_curve"
   ]
  },
  {
   "cell_type": "code",
   "execution_count": null,
   "metadata": {},
   "outputs": [],
   "source": [
    "# load config\n",
    "config = load_config(\"configs/config.yaml\")\n",
    "\n",
    "# load test data\n",
    "test_loader = create_data_loader(config[\"testpath\"], \n",
    "                                config[\"test_label_col\"],\n",
    "                                config['tokenizer_model'],\n",
    "                                config['max_length'],\n",
    "                                config['batch_size'],\n",
    "                                shuffle=False)\n",
    "\n",
    "# setting device\n",
    "device = torch.device(\"cuda\" if torch.cuda.is_available() else \"cpu\")\n",
    "\n",
    "# load model\n",
    "model = load_model_for_inference(config, device)\n",
    "\n",
    "# test model\n",
    "accuracy, f1, y_true, y_pred = test_model(model, test_loader, device)"
   ]
  },
  {
   "cell_type": "code",
   "execution_count": null,
   "metadata": {},
   "outputs": [],
   "source": [
    "# Plot confusion matrix\n",
    "plot_confusion_matrix(y_true, y_pred, classes=[str(i) for i in range(config['num_labels'])])\n",
    "\n",
    "# Plot precision-recall curve\n",
    "plot_precision_recall(y_true, y_pred)\n",
    "\n",
    "# Plot ROC curve\n",
    "plot_roc_curve(y_true, y_pred)"
   ]
  }
 ],
 "metadata": {
  "language_info": {
   "name": "python"
  }
 },
 "nbformat": 4,
 "nbformat_minor": 2
}
