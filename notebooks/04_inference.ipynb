{
 "cells": [
  {
   "cell_type": "code",
   "execution_count": null,
   "metadata": {},
   "outputs": [],
   "source": [
    "import torch\n",
    "from config import load_config\n",
    "from data_prep import create_data_loader\n",
    "from model import load_model_for_inference\n",
    "from train import test_model\n"
   ]
  },
  {
   "cell_type": "code",
   "execution_count": null,
   "metadata": {},
   "outputs": [],
   "source": [
    "# load config\n",
    "config = load_config(\"configs/config.yaml\")\n",
    "\n",
    "# load test data\n",
    "test_loader = create_data_loader(config[\"testpath\"], \n",
    "                                config[\"test_label_col\"],\n",
    "                                config['tokenizer_model'],\n",
    "                                config['max_length'],\n",
    "                                config['batch_size'],\n",
    "                                shuffle=False)\n",
    "\n",
    "# setting device\n",
    "device = torch.device(\"cuda\" if torch.cuda.is_available() else \"cpu\")\n",
    "\n",
    "# load model\n",
    "model = load_model_for_inference(config, device)\n",
    "\n",
    "# test model\n",
    "test_model(model, test_loader, device)"
   ]
  }
 ],
 "metadata": {
  "language_info": {
   "name": "python"
  }
 },
 "nbformat": 4,
 "nbformat_minor": 2
}
