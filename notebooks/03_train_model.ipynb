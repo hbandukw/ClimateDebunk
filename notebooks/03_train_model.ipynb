{
 "cells": [
  {
   "cell_type": "code",
   "execution_count": null,
   "metadata": {},
   "outputs": [],
   "source": [
    "import torch\n",
    "from torch.optim import AdamW, lr_scheduler\n",
    "from config import load_config\n",
    "from model import load_model_for_finetuning\n",
    "from data_prep import create_data_loader\n",
    "from train import train_one_epoch, validate_model\n",
    "from utils import plot_loss, plot_accuracy, plot_confusion_matrix, plot_precision_recall, plot_roc_curve"
   ]
  },
  {
   "cell_type": "code",
   "execution_count": null,
   "metadata": {},
   "outputs": [],
   "source": [
    "# load config and model\n",
    "config = load_config('configs/config.yaml')\n",
    "model = load_model_for_finetuning(config)\n",
    "\n",
    "optimizer = AdamW(model.parameters(), lr=config['learning_rate'])\n",
    "scheduler = lr_scheduler.StepLR(optimizer, step_size=config['step_size'], gamma=config['gamma'])\n",
    "\n",
    "device = torch.device(\"cuda\" if torch.cuda.is_available() else \"cpu\")\n",
    "model.to(device)"
   ]
  },
  {
   "cell_type": "code",
   "execution_count": null,
   "metadata": {},
   "outputs": [],
   "source": [
    "# Load training and validation data\n",
    "train_loader = create_data_loader(config[\"trainpath\"], \n",
    "                                      config[\"train_label_col\"],\n",
    "                                      config['tokenizer_model'],\n",
    "                                      config['max_length'],\n",
    "                                      config['batch_size'],\n",
    "                                      shuffle=True)\n",
    "\n",
    "val_loader = create_data_loader(config[\"valpath\"], \n",
    "                                config[\"val_label_col\"],\n",
    "                                config['tokenizer_model'],\n",
    "                                config['max_length'],\n",
    "                                config['batch_size'],\n",
    "                                shuffle=False) \n"
   ]
  },
  {
   "cell_type": "code",
   "execution_count": null,
   "metadata": {},
   "outputs": [],
   "source": [
    "# train data\n",
    "train_losses = []\n",
    "val_losses = []\n",
    "train_accuracies = []\n",
    "val_accuracies = []\n",
    "train_f1_scores = []\n",
    "val_f1_scores = []\n",
    "all_train_labels = []\n",
    "all_train_preds = []\n",
    "all_val_labels = []\n",
    "all_val_preds = []\n",
    "\n",
    "for epoch in range(config['epochs']):\n",
    "    train_loss, train_accuracy, train_f1, epoch_train_labels, epoch_train_preds = train_one_epoch(model, train_loader, optimizer, device)\n",
    "    val_loss, val_accuracy, val_f1, epoch_val_labels, epoch_val_preds = validate_model(model, val_loader, device)\n",
    "    scheduler.step()\n",
    "    train_losses.append(train_loss)\n",
    "    val_losses.append(val_loss)\n",
    "    train_accuracies.append(train_accuracy)\n",
    "    val_accuracies.append(val_accuracy)\n",
    "    train_f1_scores.append(train_f1)\n",
    "    val_f1_scores.append(val_f1)\n",
    "    all_train_labels.extend(epoch_train_labels)\n",
    "    all_train_preds.extend(epoch_train_preds)\n",
    "    all_val_labels.extend(epoch_val_labels)\n",
    "    all_val_preds.extend(epoch_val_preds)\n",
    "    print(f\"Epoch {epoch+1}/{config['epochs']}, Train Loss: {train_loss}, Train Accuracy: {train_accuracy}, Train F1: {train_f1}, Val Loss: {val_loss}, Val Accuracy: {val_accuracy}, Val F1: {val_f1}\")\n"
   ]
  },
  {
   "cell_type": "code",
   "execution_count": null,
   "metadata": {},
   "outputs": [],
   "source": [
    "# Plot loss and accuracy\n",
    "plot_loss(train_losses, val_losses, config['epochs'])\n",
    "\n",
    "plot_accuracy(train_accuracies, val_accuracies, config['epochs'])\n",
    "\n",
    "# Plot confusion matrix\n",
    "plot_confusion_matrix(all_val_labels, all_val_preds, classes=[str(i) for i in range(config['num_labels'])])\n",
    "\n",
    "# Plot precision-recall curve\n",
    "plot_precision_recall(all_val_labels, all_val_preds)\n",
    "\n",
    "# Plot ROC curve\n",
    "plot_roc_curve(all_val_labels, all_val_preds)"
   ]
  },
  {
   "cell_type": "code",
   "execution_count": null,
   "metadata": {},
   "outputs": [],
   "source": [
    "# Save the trained model\n",
    "torch.save(model.state_dict(), config['trained_model_path'])\n",
    "print(f\"Model saved as {config['trained_model_path']}\")"
   ]
  }
 ],
 "metadata": {
  "language_info": {
   "name": "python"
  }
 },
 "nbformat": 4,
 "nbformat_minor": 2
}
